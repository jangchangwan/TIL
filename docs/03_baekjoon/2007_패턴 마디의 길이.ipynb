{
 "cells": [
  {
   "cell_type": "markdown",
   "id": "ace288c7",
   "metadata": {},
   "source": [
    "# 2007 패턴 마디의 길이\n",
    "> 패턴에서 반복되는 부분을 마디라고 부른다. 문자열을 입력 받아 마디의 길이를 출력하는 프로그램을 작성하라.\n",
    "\n",
    "```\n",
    "입력 예시\n",
    "3       \n",
    "KOREAKOREAKOREAKOREAKOREAKOREA\n",
    "SAMSUNGSAMSUNGSAMSUNGSAMSUNGSA\n",
    "GALAXYGALAXYGALAXYGALAXYGALAXY   \n",
    "```\n",
    "\n",
    "```\n",
    "출력 예시\n",
    "#1 5\n",
    "#2 7\n",
    "#3 6\n",
    "\n",
    "```"
   ]
  },
  {
   "cell_type": "code",
   "execution_count": 1,
   "id": "0a07f22b",
   "metadata": {},
   "outputs": [
    {
     "name": "stdout",
     "output_type": "stream",
     "text": [
      "1\n",
      "KOREAKOREAKOREAKOREAKOREAKOREA\n",
      "#1 5\n"
     ]
    }
   ],
   "source": [
    "T = int(input())\n",
    "\n",
    "for i in range(1, T + 1):\n",
    "    string = input()\n",
    "    word = ''\n",
    "    for char in string:\n",
    "        word += char\n",
    "        length = len(word)\n",
    "        if word == string[length:length+length]:\n",
    "            rest_string = string[length:]\n",
    "            rest_string = rest_string.replace(word, '')\n",
    "            if len(rest_string) < len(word):\n",
    "                break\n",
    "    print('#{} {}'.format(i, len(word)))"
   ]
  },
  {
   "cell_type": "code",
   "execution_count": null,
   "id": "3d06c1c5",
   "metadata": {},
   "outputs": [],
   "source": []
  }
 ],
 "metadata": {
  "kernelspec": {
   "display_name": "Python 3 (ipykernel)",
   "language": "python",
   "name": "python3"
  },
  "language_info": {
   "codemirror_mode": {
    "name": "ipython",
    "version": 3
   },
   "file_extension": ".py",
   "mimetype": "text/x-python",
   "name": "python",
   "nbconvert_exporter": "python",
   "pygments_lexer": "ipython3",
   "version": "3.9.9"
  }
 },
 "nbformat": 4,
 "nbformat_minor": 5
}
