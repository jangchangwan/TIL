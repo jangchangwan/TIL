{
 "cells": [
  {
   "cell_type": "markdown",
   "id": "779a7260",
   "metadata": {},
   "source": [
    "# 1546. 평균\n",
    "\n",
    "> 세준이는 기말고사를 망쳤다. 세준이는 점수를 조작해서 집에 가져가기로 했다. 일단 세준이는 자기 점수 중에 최댓값을 골랐다. 이 값을 M이라고 한다. 그리고 나서 모든 점수를 점수/M*100으로 고쳤다.\n",
    "예를 들어, 세준이의 최고점이 70이고, 수학점수가 50이었으면 수학점수는 50/70*100이 되어 71.43점이 된다.\n",
    "세준이의 성적을 위의 방법대로 새로 계산했을 때, 새로운 평균을 구하는 프로그램을 작성하시오.\n",
    "\n",
    "```\n",
    "[입력 예시]\n",
    "3\n",
    "40 80 60\n",
    "```\n",
    "\n",
    "```\n",
    "[출력 예시]\n",
    "75.0\n",
    "```"
   ]
  },
  {
   "cell_type": "code",
   "execution_count": 6,
   "id": "a045dca6",
   "metadata": {},
   "outputs": [
    {
     "name": "stdout",
     "output_type": "stream",
     "text": [
      "3\n",
      "40 80 60\n",
      "75.0\n"
     ]
    }
   ],
   "source": [
    "# 과목 개수를 입력받는다\n",
    "T = int(input())\n",
    "# 과목의 점수를 입력받는다\n",
    "scores = list(map(int,input().split()))\n",
    "# T = 3\n",
    "# scores = [40,80,60] # 계속 입력하기 귀찮아서 하나만듬\n",
    "# max값을 찾는다\n",
    "max_score = scores[0]\n",
    "for score in scores:\n",
    "    if score > max_score :\n",
    "        max_score = score\n",
    "\n",
    "#모든값을 수정하기\n",
    "cheat_scores = list()\n",
    "for score in scores:\n",
    "    cheat_score = (score/max_score)*100\n",
    "    cheat_scores.append(cheat_score)\n",
    "#합계 & 평균구하기\n",
    "total = 0\n",
    "for cheat in cheat_scores:\n",
    "    total += cheat\n",
    "print(total/T)"
   ]
  },
  {
   "cell_type": "code",
   "execution_count": null,
   "id": "db95d665",
   "metadata": {},
   "outputs": [],
   "source": []
  }
 ],
 "metadata": {
  "kernelspec": {
   "display_name": "Python 3 (ipykernel)",
   "language": "python",
   "name": "python3"
  },
  "language_info": {
   "codemirror_mode": {
    "name": "ipython",
    "version": 3
   },
   "file_extension": ".py",
   "mimetype": "text/x-python",
   "name": "python",
   "nbconvert_exporter": "python",
   "pygments_lexer": "ipython3",
   "version": "3.9.9"
  }
 },
 "nbformat": 4,
 "nbformat_minor": 5
}
