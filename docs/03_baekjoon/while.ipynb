{
 "cells": [
  {
   "cell_type": "markdown",
   "id": "5f3c0e0b",
   "metadata": {},
   "source": [
    "# While 문"
   ]
  },
  {
   "cell_type": "markdown",
   "id": "bbcb1740",
   "metadata": {},
   "source": [
    "## 1. A+B - 5\n",
    "\n",
    "> 두 정수 A와 B를 입력받은 다음, A+B를 출력하는 프로그램을 작성하시오.\n",
    "---\n",
    "```\n",
    "[입력]\n",
    "입력은 여러 개의 테스트 케이스로 이루어져 있다.\n",
    "각 테스트 케이스는 한 줄로 이루어져 있으며, 각 줄에 A와 B가 주어진다. (0 < A, B < 10)\n",
    "입력의 마지막에는 0 두 개가 들어온다.\n",
    "```\n",
    "```\n",
    "[출력]\n",
    "각 테스트 케이스마다 A+B를 출력한다.\n",
    "```\n",
    "```\n",
    "[입력 예시]\n",
    "1 1\n",
    "2 3\n",
    "3 4\n",
    "9 8\n",
    "5 2\n",
    "0 0\n",
    "```\n",
    "\n",
    "```\n",
    "[출력 예시]\n",
    "2\n",
    "5\n",
    "7\n",
    "17\n",
    "7\n",
    "```"
   ]
  },
  {
   "cell_type": "code",
   "execution_count": null,
   "id": "3c4fa9b0",
   "metadata": {},
   "outputs": [],
   "source": [
    "i = 0\n",
    "while i == 0 :\n",
    "    numbers = input()\n",
    "    if numbers == '0 0':\n",
    "        break\n",
    "    else :\n",
    "        a = int(numbers.split(' ')[0])\n",
    "        b = int(numbers.split(' ')[1])\n",
    "        print(a + b)"
   ]
  },
  {
   "cell_type": "markdown",
   "id": "6ca4f475",
   "metadata": {},
   "source": [
    "## 1. A+B - 4\n",
    "\n",
    "> 두 정수 A와 B를 입력받은 다음, A+B를 출력하는 프로그램을 작성하시오.\n",
    "---\n",
    "```\n",
    "[입력]\n",
    "입력은 여러 개의 테스트 케이스로 이루어져 있다.\n",
    "각 테스트 케이스는 한 줄로 이루어져 있으며, 각 줄에 A와 B가 주어진다. (0 < A, B < 10)\n",
    "```\n",
    "```\n",
    "[출력]\n",
    "각 테스트 케이스마다 A+B를 출력한다.\n",
    "```\n",
    "```\n",
    "[입력 예시]\n",
    "1 1\n",
    "2 3\n",
    "3 4\n",
    "9 8\n",
    "5 2\n",
    "```\n",
    "\n",
    "```\n",
    "[출력 예시]\n",
    "2\n",
    "5\n",
    "7\n",
    "17\n",
    "7\n",
    "```"
   ]
  },
  {
   "cell_type": "code",
   "execution_count": null,
   "id": "e8cacf0a",
   "metadata": {},
   "outputs": [],
   "source": [
    "while True :  \n",
    "    try :\n",
    "        numbers = input()\n",
    "        a = int(numbers.split(' ')[0])\n",
    "        b = int(numbers.split(' ')[1])\n",
    "        print(a + b)\n",
    "    except :\n",
    "        break        "
   ]
  },
  {
   "cell_type": "markdown",
   "id": "6fad8929",
   "metadata": {},
   "source": [
    "## 1. 더하기 사이클\n",
    "\n",
    "> 0보다 크거나 같고, 99보다 작거나 같은 정수가 주어질 때 다음과 같은 연산을 할 수 있다. 먼저 주어진 수가 10보다 작다면 앞에 0을 붙여 두 자리 수로 만들고, 각 자리의 숫자를 더한다. 그 다음, 주어진 수의 가장 오른쪽 자리 수와 앞에서 구한 합의 가장 오른쪽 자리 수를 이어 붙이면 새로운 수를 만들 수 있다. 다음 예를 보자.\n",
    "26부터 시작한다. 2+6 = 8이다. 새로운 수는 68이다. 6+8 = 14이다. 새로운 수는 84이다. 8+4 = 12이다. 새로운 수는 42이다. 4+2 = 6이다. 새로운 수는 26이다.\n",
    "위의 예는 4번만에 원래 수로 돌아올 수 있다. 따라서 26의 사이클의 길이는 4이다.\n",
    "N이 주어졌을 때, N의 사이클의 길이를 구하는 프로그램을 작성하시오.\n",
    "---\n",
    "```\n",
    "[입력]\n",
    "첫째 줄에 N이 주어진다. N은 0보다 크거나 같고, 99보다 작거나 같은 정수이다.\n",
    "```\n",
    "```\n",
    "[출력]\n",
    "첫째 줄에 N의 사이클 길이를 출력한다.\n",
    "```\n",
    "```\n",
    "[입력 예시]\n",
    "26\n",
    "55\n",
    "1\n",
    "0\n",
    "71\n",
    "```\n",
    "\n",
    "```\n",
    "[출력 예시]\n",
    "4\n",
    "3\n",
    "60\n",
    "1\n",
    "12\n",
    "```"
   ]
  },
  {
   "cell_type": "code",
   "execution_count": 1,
   "id": "846c3ab8",
   "metadata": {
    "scrolled": true
   },
   "outputs": [
    {
     "name": "stdout",
     "output_type": "stream",
     "text": [
      "1\n",
      "60\n"
     ]
    }
   ],
   "source": [
    "number=int(input())\n",
    "# 초기값 저장\n",
    "number_start = number \n",
    "count = 0\n",
    "# 반복문 : number와 초기값이 같지않을때 반복한다\n",
    "# or circle == 0 을 넣은이유 \n",
    "#처음시작할때 number == number_start 이기 때문에\n",
    "while number != number_start or  count == 0:\n",
    "    # 처음 주어진 값이 0보다 작을경우 0을 붙여 두자리수를 만든다\n",
    "    if number < 10 :\n",
    "        number_a = 0\n",
    "        number_b = int(str(number).split()[0][0])\n",
    "    else :\n",
    "        number_a = int(str(number).split()[0][0])\n",
    "        number_b = int(str(number).split()[0][1])\n",
    "    number_c = number_a+number_b\n",
    "    # 이어 붙힐 새로운수 구하기 \n",
    "    if number_c < 10 :\n",
    "        number_c = number_c\n",
    "    else :\n",
    "        number_c -= 10\n",
    " \n",
    "        # 새로운 수 만듬\n",
    "    number = int(str(number_b)+str(number_c))\n",
    "    # 카운팅\n",
    "    count += 1\n",
    "\n",
    "print(count)      "
   ]
  },
  {
   "cell_type": "code",
   "execution_count": null,
   "id": "f8179353",
   "metadata": {},
   "outputs": [],
   "source": []
  }
 ],
 "metadata": {
  "kernelspec": {
   "display_name": "Python 3 (ipykernel)",
   "language": "python",
   "name": "python3"
  },
  "language_info": {
   "codemirror_mode": {
    "name": "ipython",
    "version": 3
   },
   "file_extension": ".py",
   "mimetype": "text/x-python",
   "name": "python",
   "nbconvert_exporter": "python",
   "pygments_lexer": "ipython3",
   "version": "3.9.9"
  }
 },
 "nbformat": 4,
 "nbformat_minor": 5
}
