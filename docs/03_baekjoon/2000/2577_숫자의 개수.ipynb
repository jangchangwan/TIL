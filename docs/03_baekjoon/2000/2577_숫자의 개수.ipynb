{
 "cells": [
  {
   "cell_type": "markdown",
   "id": "c9867263",
   "metadata": {},
   "source": [
    "# 숫자의 개수\n",
    "\n",
    ">세 개의 자연수 A, B, C가 주어질 때 A × B × C를 계산한 결과에 0부터 9까지 각각의 숫자가 몇 번씩 쓰였는지를 구하는 프로그램을 작성하시오.\n",
    "예를 들어 A = 150, B = 266, C = 427 이라면 A × B × C = 150 × 266 × 427 = 17037300 이 되고, 계산한 결과 17037300 에는 0이 3번, 1이 1번, 3이 2번, 7이 2번 쓰였다.\n",
    "\n",
    "```\n",
    "[입력 예시]\n",
    "150\n",
    "266\n",
    "427\n",
    "```\n",
    "\n",
    "```\n",
    "[출력 예시]\n",
    "3\n",
    "1\n",
    "0\n",
    "2\n",
    "0\n",
    "0\n",
    "0\n",
    "2\n",
    "0\n",
    "0\n",
    "```"
   ]
  },
  {
   "cell_type": "code",
   "execution_count": 9,
   "id": "1c5140a5",
   "metadata": {},
   "outputs": [
    {
     "name": "stdout",
     "output_type": "stream",
     "text": [
      "3\n",
      "1\n",
      "0\n",
      "2\n",
      "0\n",
      "0\n",
      "0\n",
      "2\n",
      "0\n",
      "0\n"
     ]
    }
   ],
   "source": [
    "numbers = list()\n",
    "for num in range(3):\n",
    "    numbers.append(int(input()))\n",
    "# 3개의 곱 구하기\n",
    "x_number = 1\n",
    "for num in numbers:\n",
    "    x_number *= num\n",
    "# print(x_number)\n",
    "# count 숫자 넣는 리스트 만들어주기\n",
    "count_lst = list()\n",
    "for i in range(10):\n",
    "    count_lst.append(0)\n",
    "# 숫자 카운팅\n",
    "for s in str(x_number):\n",
    "    count_lst[int(s)] += 1\n",
    "# 출력\n",
    "for c in count_lst:\n",
    "    print(c)"
   ]
  },
  {
   "cell_type": "code",
   "execution_count": null,
   "id": "85fe773d",
   "metadata": {},
   "outputs": [],
   "source": []
  }
 ],
 "metadata": {
  "kernelspec": {
   "display_name": "Python 3 (ipykernel)",
   "language": "python",
   "name": "python3"
  },
  "language_info": {
   "codemirror_mode": {
    "name": "ipython",
    "version": 3
   },
   "file_extension": ".py",
   "mimetype": "text/x-python",
   "name": "python",
   "nbconvert_exporter": "python",
   "pygments_lexer": "ipython3",
   "version": "3.9.9"
  }
 },
 "nbformat": 4,
 "nbformat_minor": 5
}
