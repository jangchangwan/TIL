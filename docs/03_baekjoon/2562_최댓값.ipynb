{
 "cells": [
  {
   "cell_type": "markdown",
   "id": "3ffbe271",
   "metadata": {},
   "source": [
    "# 최댓값\n",
    "\n",
    "> 9개의 서로 다른 자연수가 주어질 때, 이들 중 최댓값을 찾고 그 최댓값이 몇 번째 수인지를 구하는 프로그램을 작성하시오.\n",
    "예를 들어, 서로 다른 9개의 자연수\n",
    "3, 29, 38, 12, 57, 74, 40, 85, 61\n",
    "이 주어지면, 이들 중 최댓값은 85이고, 이 값은 8번째 수이다.\n",
    "\n",
    "```\n",
    "입력예시\n",
    "3\n",
    "29\n",
    "38\n",
    "12\n",
    "57\n",
    "74\n",
    "40\n",
    "85\n",
    "61\n",
    "```\n",
    "```\n",
    "출력예시\n",
    "85\n",
    "8\n",
    "```"
   ]
  },
  {
   "cell_type": "code",
   "execution_count": 7,
   "id": "7823c3f5",
   "metadata": {},
   "outputs": [
    {
     "name": "stdout",
     "output_type": "stream",
     "text": [
      "4\n",
      "5\n",
      "6\n",
      "1\n",
      "2\n",
      "3\n",
      "6\n",
      "7\n",
      "8\n",
      "8\n",
      "9\n"
     ]
    }
   ],
   "source": [
    "# 입력된 숫자를 넣을 리스트 생성 \n",
    "numbers = list()\n",
    "# 반복문으로 9개의 변수를 리스트안에 넣는다\n",
    "for num in range(1,10):\n",
    "    numbers.append(int(input()))\n",
    "# numbers = [3,29,38,12,57,74,40,85,61]\n",
    "num_index = 1\n",
    "max_number = numbers[0]\n",
    "cnt = 1\n",
    "# 반복문을 돌려 인덱스와 최댓값을 찾는다\n",
    "for num in numbers:\n",
    "    if num > max_number:\n",
    "        max_number = num\n",
    "        num_index = cnt\n",
    "    cnt += 1\n",
    "print(max_number)\n",
    "print(num_index)"
   ]
  },
  {
   "cell_type": "code",
   "execution_count": null,
   "id": "f334ff96",
   "metadata": {},
   "outputs": [],
   "source": []
  },
  {
   "cell_type": "code",
   "execution_count": null,
   "id": "204287ab",
   "metadata": {},
   "outputs": [],
   "source": []
  }
 ],
 "metadata": {
  "kernelspec": {
   "display_name": "Python 3 (ipykernel)",
   "language": "python",
   "name": "python3"
  },
  "language_info": {
   "codemirror_mode": {
    "name": "ipython",
    "version": 3
   },
   "file_extension": ".py",
   "mimetype": "text/x-python",
   "name": "python",
   "nbconvert_exporter": "python",
   "pygments_lexer": "ipython3",
   "version": "3.9.9"
  }
 },
 "nbformat": 4,
 "nbformat_minor": 5
}
