{
 "cells": [
  {
   "cell_type": "markdown",
   "id": "f4f16051",
   "metadata": {},
   "source": [
    "# 백만 장자 프로젝트\n",
    "\n",
    ">  25년 간의 수행 끝에 원재는 미래를 보는 능력을 갖게 되었다. 이 능력으로 원재는 사재기를 하려고 한다.\n",
    "다만 당국의 감시가 심해 한 번에 많은 양을 사재기 할 수 없다.\n",
    "다음과 같은 조건 하에서 사재기를 하여 최대한의 이득을 얻도록 도와주자.\n",
    "예를 들어 3일 동안의 매매가가 1, 2, 3 이라면 처음 두 날에 원료를 구매하여 마지막 날에 팔면 3의 이익을 얻을 수 있다.\n",
    "```\n",
    "    1. 원재는 연속된 N일 동안의 물건의 매매가를 예측하여 알고 있다.\n",
    "    2. 당국의 감시망에 걸리지 않기 위해 하루에 최대 1만큼 구입할 수 있다.\n",
    "    3. 판매는 얼마든지 할 수 있다.\n",
    "```\n",
    "```\n",
    "[입력]\n",
    "첫 번째 줄에 테스트 케이스의 수 T가 주어진다.\n",
    "각 테스트 케이스 별로 첫 줄에는 자연수 N(2 ≤ N ≤ 1,000,000)이 주어지고,\n",
    "둘째 줄에는 각 날의 매매가를 나타내는 N개의 자연수들이 공백으로 구분되어 순서대로 주어진다.\n",
    "각 날의 매매가는 10,000이하이다.\n",
    "```\n",
    "```\n",
    "[출력]\n",
    "각 테스트 케이스마다 ‘#x’(x는 테스트케이스 번호를 의미하며 1부터 시작한다)를 출력하고, 최대 이익을 출력한다.\n",
    "```\n",
    "```\n",
    "[예제 풀이]\n",
    "1번째 케이스는 아무 것도 사지 않는 것이 최대 이익이다.\n",
    "2번째 케이스는 1,2일에 각각 한 개씩 사서 세 번째 날에 두 개를 팔면 10의 이익을 얻을 수 있다.\n",
    "```\n",
    "```\n",
    "입력\n",
    "3\n",
    "3\n",
    "10 7 6\n",
    "3\n",
    "3 5 9\n",
    "5\n",
    "1 1 3 1 2\n",
    "```\n",
    "```\n",
    "출력\n",
    "#1 0\n",
    "#2 10\n",
    "#3 5\n",
    "```"
   ]
  },
  {
   "cell_type": "code",
   "execution_count": null,
   "id": "36e2448c",
   "metadata": {},
   "outputs": [],
   "source": [
    "case_num = int(input())\n",
    "for num in range(1,case_num+1):\n",
    "    day_num = int(input())\n",
    "    price = list(map(int,input().split()))\n",
    "    last = price[-1]\n",
    "    count = 0\n",
    "    for i in range(len(price)-1,-1,-1):\n",
    "        if last > price[i]:\n",
    "            count += last-price[i]\n",
    "        else :\n",
    "            last = price[i]\n",
    "    print('#{} {}'.format(num,count))"
   ]
  }
 ],
 "metadata": {
  "kernelspec": {
   "display_name": "Python 3 (ipykernel)",
   "language": "python",
   "name": "python3"
  },
  "language_info": {
   "codemirror_mode": {
    "name": "ipython",
    "version": 3
   },
   "file_extension": ".py",
   "mimetype": "text/x-python",
   "name": "python",
   "nbconvert_exporter": "python",
   "pygments_lexer": "ipython3",
   "version": "3.9.9"
  }
 },
 "nbformat": 4,
 "nbformat_minor": 5
}
