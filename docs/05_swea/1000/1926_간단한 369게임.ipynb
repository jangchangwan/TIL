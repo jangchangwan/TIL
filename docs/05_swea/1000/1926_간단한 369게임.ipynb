{
 "cells": [
  {
   "cell_type": "markdown",
   "id": "7f5cb866",
   "metadata": {},
   "source": [
    "# 1926. 간단한 369게임\n",
    "\n",
    ">3 6 9 게임을 프로그램으로 제작중이다. 게임 규칙은 다음과 같다.\n",
    "\n",
    "```\n",
    "1. 숫자 1부터 순서대로 차례대로 말하되, “3” “6” “9” 가 들어가 있는 수는 말하지 않는다.\n",
    "  1 2 3 4 5 6 7 8 9…\n",
    "2. \"3\" \"6\" \"9\"가 들어가 있는 수를 말하지 않는대신, 박수를 친다. 이 때, 박수는 해당 숫자가 들어간 개수만큼 쳐야 한다.  \n",
    "```\n",
    "\n",
    "> 예를 들어 숫자 35의 경우 박수 한 번, 숫자 36의 경우 박수를 두번 쳐야 한다.\n",
    "입력으로 정수 N 이 주어졌을 때, 1~N 까지의 숫자를\n",
    "게임 규칙에 맞게 출력하는 프로그램을 작성하라.\n",
    "박수를 치는 부분은 숫자 대신, 박수 횟수에 맞게 “-“ 를 출력한다.\n",
    "여기서 주의해야 할 것은 박수 한 번 칠 때는 - 이며, 박수를 두 번 칠 때는 - - 가 아닌 -- 이다. \n",
    "\n",
    "```\n",
    "입력예시\n",
    "10\n",
    "```\n",
    "```\n",
    "출력예씨\n",
    "1 2 - 4 5 - 7 8 - 10\n",
    "```"
   ]
  },
  {
   "cell_type": "code",
   "execution_count": 7,
   "id": "2d3a2618",
   "metadata": {},
   "outputs": [
    {
     "name": "stdout",
     "output_type": "stream",
     "text": [
      "33\n",
      "1 2 - 4 5 - 7 8 - 10 11 12 - 14 15 - 17 18 - 20 21 22 - 24 25 - 27 28 - - - - -- "
     ]
    }
   ],
   "source": [
    "# 하게 될 숫자\n",
    "number = int(input())\n",
    "\n",
    "# 횟수 반복하는 반복문\n",
    "for num in range(1,number+1):\n",
    "    number_369 = ''\n",
    "    str_num = str(num)\n",
    "    \n",
    "    for s in str_num:\n",
    "        if s == '3' or s == '6' or s == '9':\n",
    "            number_369 += '-'\n",
    "            num = number_369\n",
    "        else :\n",
    "            num = num\n",
    "    print(num, end = ' ')"
   ]
  },
  {
   "cell_type": "code",
   "execution_count": null,
   "id": "e7900806",
   "metadata": {},
   "outputs": [],
   "source": []
  }
 ],
 "metadata": {
  "kernelspec": {
   "display_name": "Python 3 (ipykernel)",
   "language": "python",
   "name": "python3"
  },
  "language_info": {
   "codemirror_mode": {
    "name": "ipython",
    "version": 3
   },
   "file_extension": ".py",
   "mimetype": "text/x-python",
   "name": "python",
   "nbconvert_exporter": "python",
   "pygments_lexer": "ipython3",
   "version": "3.9.9"
  }
 },
 "nbformat": 4,
 "nbformat_minor": 5
}
